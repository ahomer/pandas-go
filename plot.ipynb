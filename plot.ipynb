{
 "cells": [
  {
   "cell_type": "code",
   "execution_count": 67,
   "metadata": {
    "collapsed": true
   },
   "outputs": [],
   "source": [
    "import pandas as pd\n",
    "% matplotlib inline"
   ]
  },
  {
   "cell_type": "code",
   "execution_count": 68,
   "metadata": {
    "collapsed": true
   },
   "outputs": [],
   "source": [
    "df = pd.read_excel('World_Development_Indicators.xlsx')"
   ]
  },
  {
   "cell_type": "code",
   "execution_count": 69,
   "metadata": {},
   "outputs": [
    {
     "data": {
      "text/html": [
       "<div>\n",
       "<style scoped>\n",
       "    .dataframe tbody tr th:only-of-type {\n",
       "        vertical-align: middle;\n",
       "    }\n",
       "\n",
       "    .dataframe tbody tr th {\n",
       "        vertical-align: top;\n",
       "    }\n",
       "\n",
       "    .dataframe thead th {\n",
       "        text-align: right;\n",
       "    }\n",
       "</style>\n",
       "<table border=\"1\" class=\"dataframe\">\n",
       "  <thead>\n",
       "    <tr style=\"text-align: right;\">\n",
       "      <th></th>\n",
       "      <th>Series Name</th>\n",
       "      <th>Series Code</th>\n",
       "      <th>Country Name</th>\n",
       "      <th>Country Code</th>\n",
       "      <th>1990 [YR1990]</th>\n",
       "      <th>2000 [YR2000]</th>\n",
       "      <th>2009 [YR2009]</th>\n",
       "      <th>2010 [YR2010]</th>\n",
       "      <th>2011 [YR2011]</th>\n",
       "      <th>2012 [YR2012]</th>\n",
       "      <th>2013 [YR2013]</th>\n",
       "      <th>2014 [YR2014]</th>\n",
       "      <th>2015 [YR2015]</th>\n",
       "      <th>2016 [YR2016]</th>\n",
       "      <th>2017 [YR2017]</th>\n",
       "      <th>2018 [YR2018]</th>\n",
       "    </tr>\n",
       "  </thead>\n",
       "  <tbody>\n",
       "    <tr>\n",
       "      <th>0</th>\n",
       "      <td>GDP (current US$)</td>\n",
       "      <td>NY.GDP.MKTP.CD</td>\n",
       "      <td>Arab World</td>\n",
       "      <td>ARB</td>\n",
       "      <td>4.46902e+11</td>\n",
       "      <td>7.35188e+11</td>\n",
       "      <td>1.7962e+12</td>\n",
       "      <td>2.10993e+12</td>\n",
       "      <td>2.50174e+12</td>\n",
       "      <td>2.78679e+12</td>\n",
       "      <td>2.86686e+12</td>\n",
       "      <td>2.90839e+12</td>\n",
       "      <td>2.56075e+12</td>\n",
       "      <td>2.51394e+12</td>\n",
       "      <td>2.58631e+12</td>\n",
       "      <td>..</td>\n",
       "    </tr>\n",
       "    <tr>\n",
       "      <th>1</th>\n",
       "      <td>GDP (current US$)</td>\n",
       "      <td>NY.GDP.MKTP.CD</td>\n",
       "      <td>Caribbean small states</td>\n",
       "      <td>CSS</td>\n",
       "      <td>1.79592e+10</td>\n",
       "      <td>3.41771e+10</td>\n",
       "      <td>5.81631e+10</td>\n",
       "      <td>6.32689e+10</td>\n",
       "      <td>6.83511e+10</td>\n",
       "      <td>7.05884e+10</td>\n",
       "      <td>7.13353e+10</td>\n",
       "      <td>7.24957e+10</td>\n",
       "      <td>7.0862e+10</td>\n",
       "      <td>6.76656e+10</td>\n",
       "      <td>6.88236e+10</td>\n",
       "      <td>..</td>\n",
       "    </tr>\n",
       "    <tr>\n",
       "      <th>2</th>\n",
       "      <td>GDP (current US$)</td>\n",
       "      <td>NY.GDP.MKTP.CD</td>\n",
       "      <td>Central Europe and the Baltics</td>\n",
       "      <td>CEB</td>\n",
       "      <td>2.56391e+11</td>\n",
       "      <td>4.27831e+11</td>\n",
       "      <td>1.28627e+12</td>\n",
       "      <td>1.31222e+12</td>\n",
       "      <td>1.44506e+12</td>\n",
       "      <td>1.35094e+12</td>\n",
       "      <td>1.42188e+12</td>\n",
       "      <td>1.46426e+12</td>\n",
       "      <td>1.28589e+12</td>\n",
       "      <td>1.31465e+12</td>\n",
       "      <td>1.45454e+12</td>\n",
       "      <td>..</td>\n",
       "    </tr>\n",
       "    <tr>\n",
       "      <th>3</th>\n",
       "      <td>GDP (current US$)</td>\n",
       "      <td>NY.GDP.MKTP.CD</td>\n",
       "      <td>Early-demographic dividend</td>\n",
       "      <td>EAR</td>\n",
       "      <td>1.81482e+12</td>\n",
       "      <td>3.28905e+12</td>\n",
       "      <td>7.01944e+12</td>\n",
       "      <td>8.52782e+12</td>\n",
       "      <td>9.58229e+12</td>\n",
       "      <td>1.00445e+13</td>\n",
       "      <td>1.02296e+13</td>\n",
       "      <td>1.05795e+13</td>\n",
       "      <td>1.02625e+13</td>\n",
       "      <td>1.04785e+13</td>\n",
       "      <td>1.12895e+13</td>\n",
       "      <td>..</td>\n",
       "    </tr>\n",
       "    <tr>\n",
       "      <th>4</th>\n",
       "      <td>GDP (current US$)</td>\n",
       "      <td>NY.GDP.MKTP.CD</td>\n",
       "      <td>East Asia &amp; Pacific</td>\n",
       "      <td>EAS</td>\n",
       "      <td>4.73243e+12</td>\n",
       "      <td>8.28088e+12</td>\n",
       "      <td>1.45312e+13</td>\n",
       "      <td>1.69433e+13</td>\n",
       "      <td>1.96479e+13</td>\n",
       "      <td>2.10314e+13</td>\n",
       "      <td>2.12752e+13</td>\n",
       "      <td>2.19142e+13</td>\n",
       "      <td>2.17952e+13</td>\n",
       "      <td>2.25115e+13</td>\n",
       "      <td>2.39965e+13</td>\n",
       "      <td>..</td>\n",
       "    </tr>\n",
       "  </tbody>\n",
       "</table>\n",
       "</div>"
      ],
      "text/plain": [
       "         Series Name     Series Code                    Country Name  \\\n",
       "0  GDP (current US$)  NY.GDP.MKTP.CD                      Arab World   \n",
       "1  GDP (current US$)  NY.GDP.MKTP.CD          Caribbean small states   \n",
       "2  GDP (current US$)  NY.GDP.MKTP.CD  Central Europe and the Baltics   \n",
       "3  GDP (current US$)  NY.GDP.MKTP.CD      Early-demographic dividend   \n",
       "4  GDP (current US$)  NY.GDP.MKTP.CD             East Asia & Pacific   \n",
       "\n",
       "  Country Code 1990 [YR1990] 2000 [YR2000] 2009 [YR2009] 2010 [YR2010]  \\\n",
       "0          ARB   4.46902e+11   7.35188e+11    1.7962e+12   2.10993e+12   \n",
       "1          CSS   1.79592e+10   3.41771e+10   5.81631e+10   6.32689e+10   \n",
       "2          CEB   2.56391e+11   4.27831e+11   1.28627e+12   1.31222e+12   \n",
       "3          EAR   1.81482e+12   3.28905e+12   7.01944e+12   8.52782e+12   \n",
       "4          EAS   4.73243e+12   8.28088e+12   1.45312e+13   1.69433e+13   \n",
       "\n",
       "  2011 [YR2011] 2012 [YR2012] 2013 [YR2013] 2014 [YR2014] 2015 [YR2015]  \\\n",
       "0   2.50174e+12   2.78679e+12   2.86686e+12   2.90839e+12   2.56075e+12   \n",
       "1   6.83511e+10   7.05884e+10   7.13353e+10   7.24957e+10    7.0862e+10   \n",
       "2   1.44506e+12   1.35094e+12   1.42188e+12   1.46426e+12   1.28589e+12   \n",
       "3   9.58229e+12   1.00445e+13   1.02296e+13   1.05795e+13   1.02625e+13   \n",
       "4   1.96479e+13   2.10314e+13   2.12752e+13   2.19142e+13   2.17952e+13   \n",
       "\n",
       "  2016 [YR2016] 2017 [YR2017] 2018 [YR2018]  \n",
       "0   2.51394e+12   2.58631e+12            ..  \n",
       "1   6.76656e+10   6.88236e+10            ..  \n",
       "2   1.31465e+12   1.45454e+12            ..  \n",
       "3   1.04785e+13   1.12895e+13            ..  \n",
       "4   2.25115e+13   2.39965e+13            ..  "
      ]
     },
     "execution_count": 69,
     "metadata": {},
     "output_type": "execute_result"
    }
   ],
   "source": [
    "df.head()"
   ]
  },
  {
   "cell_type": "markdown",
   "metadata": {},
   "source": [
    "You can use matplotlib or df.plot.bar(x='lab', y='val')"
   ]
  },
  {
   "cell_type": "code",
   "execution_count": 70,
   "metadata": {},
   "outputs": [],
   "source": [
    "df2 = df.dropna()\n",
    "df2 = df2[df2['Series Name']=='GDP (current US$)']\n",
    "df2 = df2[df2['2017 [YR2017]'] != '..']\n",
    "df2['2017 [YR2017]'] = pd.to_numeric(df2['2017 [YR2017]'])\n"
   ]
  },
  {
   "cell_type": "code",
   "execution_count": 72,
   "metadata": {},
   "outputs": [
    {
     "data": {
      "text/plain": [
       "<matplotlib.axes._subplots.AxesSubplot at 0x1220f3240>"
      ]
     },
     "execution_count": 72,
     "metadata": {},
     "output_type": "execute_result"
    },
    {
     "data": {
      "image/png": "[encoded data removed]",
      "text/plain": [
       "<matplotlib.figure.Figure at 0x1221700b8>"
      ]
     },
     "metadata": {},
     "output_type": "display_data"
    }
   ],
   "source": [
    "df2 = df2.head(20)\n",
    "df2.plot.bar(x='Country Name',y='2017 [YR2017]')"
   ]
  },
  {
   "cell_type": "code",
   "execution_count": null,
   "metadata": {
    "collapsed": true
   },
   "outputs": [],
   "source": []
  }
 ],
 "metadata": {
  "kernelspec": {
   "display_name": "Python 3",
   "language": "python",
   "name": "python3"
  },
  "language_info": {
   "codemirror_mode": {
    "name": "ipython",
    "version": 3
   },
   "file_extension": ".py",
   "mimetype": "text/x-python",
   "name": "python",
   "nbconvert_exporter": "python",
   "pygments_lexer": "ipython3",
   "version": "3.6.2"
  }
 },
 "nbformat": 4,
 "nbformat_minor": 2
}
