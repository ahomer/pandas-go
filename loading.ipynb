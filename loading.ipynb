{
 "cells": [
  {
   "cell_type": "code",
   "execution_count": 5,
   "metadata": {
    "collapsed": true
   },
   "outputs": [],
   "source": [
    "import pandas as pd"
   ]
  },
  {
   "cell_type": "markdown",
   "metadata": {},
   "source": [
    "Open the excel file, pandas loads the first sheet by default."
   ]
  },
  {
   "cell_type": "code",
   "execution_count": 2,
   "metadata": {
    "collapsed": true
   },
   "outputs": [],
   "source": [
    "df = pd.read_excel('World_Development_Indicators.xlsx')"
   ]
  },
  {
   "cell_type": "code",
   "execution_count": 3,
   "metadata": {},
   "outputs": [
    {
     "data": {
      "text/plain": [
       "Series Name      266\n",
       "Series Code      264\n",
       "Country Name     264\n",
       "Country Code     264\n",
       "1990 [YR1990]    264\n",
       "2000 [YR2000]    264\n",
       "2009 [YR2009]    264\n",
       "2010 [YR2010]    264\n",
       "2011 [YR2011]    264\n",
       "2012 [YR2012]    264\n",
       "2013 [YR2013]    264\n",
       "2014 [YR2014]    264\n",
       "2015 [YR2015]    264\n",
       "2016 [YR2016]    264\n",
       "2017 [YR2017]    264\n",
       "2018 [YR2018]    264\n",
       "dtype: int64"
      ]
     },
     "execution_count": 3,
     "metadata": {},
     "output_type": "execute_result"
    }
   ],
   "source": [
    "df.count()"
   ]
  },
  {
   "cell_type": "markdown",
   "metadata": {},
   "source": [
    "Why the length of 'Series Name' is 266 ? Let us see the value_counts of 'Series Name'"
   ]
  },
  {
   "cell_type": "code",
   "execution_count": 6,
   "metadata": {},
   "outputs": [
    {
     "data": {
      "text/plain": [
       "GDP (current US$)                                   264\n",
       "Last Updated: 03/21/2019                              1\n",
       "Data from database: World Development Indicators      1\n",
       "Name: Series Name, dtype: int64"
      ]
     },
     "execution_count": 6,
     "metadata": {},
     "output_type": "execute_result"
    }
   ],
   "source": [
    "df['Series Name'].value_counts()"
   ]
  },
  {
   "cell_type": "markdown",
   "metadata": {},
   "source": [
    "The read_excel method will stop when there is not text.You can open the excel to check the result."
   ]
  },
  {
   "cell_type": "code",
   "execution_count": null,
   "metadata": {
    "collapsed": true
   },
   "outputs": [],
   "source": []
  }
 ],
 "metadata": {
  "kernelspec": {
   "display_name": "Python 3",
   "language": "python",
   "name": "python3"
  },
  "language_info": {
   "codemirror_mode": {
    "name": "ipython",
    "version": 3
   },
   "file_extension": ".py",
   "mimetype": "text/x-python",
   "name": "python",
   "nbconvert_exporter": "python",
   "pygments_lexer": "ipython3",
   "version": "3.6.2"
  }
 },
 "nbformat": 4,
 "nbformat_minor": 2
}
